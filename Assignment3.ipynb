{
  "nbformat": 4,
  "nbformat_minor": 0,
  "metadata": {
    "colab": {
      "provenance": [],
      "authorship_tag": "ABX9TyNCrkt/sAUI7BqEIfxEz59V",
      "include_colab_link": true
    },
    "kernelspec": {
      "name": "python3",
      "display_name": "Python 3"
    },
    "language_info": {
      "name": "python"
    }
  },
  "cells": [
    {
      "cell_type": "markdown",
      "metadata": {
        "id": "view-in-github",
        "colab_type": "text"
      },
      "source": [
        "<a href=\"https://colab.research.google.com/github/Crow-6-9/AI/blob/main/Assignment3.ipynb\" target=\"_parent\"><img src=\"https://colab.research.google.com/assets/colab-badge.svg\" alt=\"Open In Colab\"/></a>"
      ]
    },
    {
      "cell_type": "code",
      "execution_count": 6,
      "metadata": {
        "colab": {
          "base_uri": "https://localhost:8080/"
        },
        "id": "MC5X970XbVrE",
        "outputId": "40dce0c5-0aa7-44ef-e3b7-9106126ab029"
      },
      "outputs": [
        {
          "output_type": "stream",
          "name": "stdout",
          "text": [
            "Enter list of numbers: 11,23,45,2,7,9,16,27\n",
            "The sum->140, maox-> 45, min->2 and averaage-> 17.5 "
          ]
        }
      ],
      "source": [
        "#1\n",
        "numlis=list(map(int,input(\"Enter list of numbers: \").split(\",\")))\n",
        "avg=sum(numlis)/len(numlis)\n",
        "print(f\"The sum->{sum(numlis)}, maox-> {max(numlis)}, min->{min(numlis)} and averaage-> {avg}\", end=\" \")"
      ]
    },
    {
      "cell_type": "code",
      "source": [
        "sl=[\"Gaurav\", \"Shubham\", \"Anand\"]\n",
        "dl={s:len(s) for s in sl}\n",
        "print(dl)\n",
        "\n",
        "\n"
      ],
      "metadata": {
        "colab": {
          "base_uri": "https://localhost:8080/"
        },
        "id": "19LAbF5yczqN",
        "outputId": "e2891937-41a2-4d0a-b6fe-9ad83aadf5f1"
      },
      "execution_count": 13,
      "outputs": [
        {
          "output_type": "stream",
          "name": "stdout",
          "text": [
            "{'Gaurav': 6, 'Shubham': 7, 'Anand': 5}\n"
          ]
        }
      ]
    },
    {
      "cell_type": "code",
      "source": [],
      "metadata": {
        "id": "z_ByRMUtiJAe"
      },
      "execution_count": null,
      "outputs": []
    }
  ]
}