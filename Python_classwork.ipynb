{
  "nbformat": 4,
  "nbformat_minor": 0,
  "metadata": {
    "colab": {
      "provenance": [],
      "authorship_tag": "ABX9TyMMrSKi9nfKt/eP+aYzi8mI",
      "include_colab_link": true
    },
    "kernelspec": {
      "name": "python3",
      "display_name": "Python 3"
    },
    "language_info": {
      "name": "python"
    }
  },
  "cells": [
    {
      "cell_type": "markdown",
      "metadata": {
        "id": "view-in-github",
        "colab_type": "text"
      },
      "source": [
        "<a href=\"https://colab.research.google.com/github/Crow-6-9/AI/blob/main/Python_classwork.ipynb\" target=\"_parent\"><img src=\"https://colab.research.google.com/assets/colab-badge.svg\" alt=\"Open In Colab\"/></a>"
      ]
    },
    {
      "cell_type": "code",
      "execution_count": null,
      "metadata": {
        "colab": {
          "base_uri": "https://localhost:8080/"
        },
        "id": "4fY3HWiexHRx",
        "outputId": "7877b9c2-17bb-49fc-e54f-917b3037593e"
      },
      "outputs": [
        {
          "output_type": "stream",
          "name": "stdout",
          "text": [
            "x is 20 and y is 30\n"
          ]
        }
      ],
      "source": [
        "x,y=20,30\n",
        "print(f\"x is {x} and y is {y}\")\n"
      ]
    },
    {
      "cell_type": "code",
      "source": [
        "print(\"x is \",x ,\"\\n\" , y,\"is y \", sep=\"-\")"
      ],
      "metadata": {
        "colab": {
          "base_uri": "https://localhost:8080/"
        },
        "id": "-zm6_SbzxW3Y",
        "outputId": "84924500-4635-4d0f-fec6-60b2e1a97937"
      },
      "execution_count": null,
      "outputs": [
        {
          "output_type": "stream",
          "name": "stdout",
          "text": [
            "x is -20-\n",
            "-30-is y \n"
          ]
        }
      ]
    },
    {
      "cell_type": "code",
      "source": [
        "name=input(\"what is your name: --> \")\n",
        "gender=input(\"what is ur gender: --> \")\n",
        "native=input(\"native? : --> \")\n",
        "\n",
        "print(f\"Hi, {name} , your gender is {gender} and yiur native is: {native}\")\n",
        "\n"
      ],
      "metadata": {
        "colab": {
          "base_uri": "https://localhost:8080/"
        },
        "id": "h1T9Ka1QyB1w",
        "outputId": "39788585-989b-494f-adcd-38ef44b0a280"
      },
      "execution_count": null,
      "outputs": [
        {
          "output_type": "stream",
          "name": "stdout",
          "text": [
            "what is your name: --> gaurav\n",
            "what is ur gender: --> male\n",
            "native? : --> gujarat\n",
            "Hi, gaurav , your gender is male and yiur native is: gujarat\n"
          ]
        }
      ]
    },
    {
      "cell_type": "code",
      "source": [
        "no1,no2,no3=map(int,input(\"Enter 3 numbers\").split(\",\"))\n",
        "print(no1,no2,no3)\n",
        "print(type(no1),type(no2),type(no3))"
      ],
      "metadata": {
        "colab": {
          "base_uri": "https://localhost:8080/"
        },
        "id": "B2CjQTQDy-XT",
        "outputId": "62bb3ed6-0410-4e0c-cbc6-5c38485e3040"
      },
      "execution_count": null,
      "outputs": [
        {
          "output_type": "stream",
          "name": "stdout",
          "text": [
            "Enter 3 numbers11,22,69\n",
            "11 22 69\n",
            "<class 'int'> <class 'int'> <class 'int'>\n"
          ]
        }
      ]
    },
    {
      "cell_type": "code",
      "source": [
        "no1,no2,no3=map(float,input(\"Enter 3 numbers\").split(\",\"))\n",
        "print(no1,no2,no3)\n",
        "print(type(no1),type(no2),type(no3))"
      ],
      "metadata": {
        "colab": {
          "base_uri": "https://localhost:8080/"
        },
        "id": "1weXPgyp1gM9",
        "outputId": "08408f7d-e0da-4ef6-b518-7a42c66242c2"
      },
      "execution_count": null,
      "outputs": [
        {
          "output_type": "stream",
          "name": "stdout",
          "text": [
            "Enter 3 numbers2.3, 45.6, 6.9\n",
            "2.3 45.6 6.9\n",
            "<class 'float'> <class 'float'> <class 'float'>\n"
          ]
        }
      ]
    },
    {
      "cell_type": "code",
      "source": [
        "farenhite=float(input(\"Enter farenhite\" ))\n",
        "celcius=(farenhite-32)*5/9\n",
        "print(f\"{farenhite} farenhite is {celcius} celcius\")"
      ],
      "metadata": {
        "colab": {
          "base_uri": "https://localhost:8080/"
        },
        "id": "AatYWzSb1qqW",
        "outputId": "9a9816a1-7542-40b3-f2e1-03361b433502"
      },
      "execution_count": null,
      "outputs": [
        {
          "output_type": "stream",
          "name": "stdout",
          "text": [
            "Enter farenhite33\n",
            "33.0 farenhite is 0.5555555555555556 celcius\n"
          ]
        }
      ]
    },
    {
      "cell_type": "code",
      "source": [
        "import math\n"
      ],
      "metadata": {
        "id": "mPipXT0r6_vA"
      },
      "execution_count": null,
      "outputs": []
    },
    {
      "cell_type": "code",
      "source": [
        "a,b=map(int,input(\"Enter a number\").split())\n",
        "if a<b:\n",
        "  print(f\"{a} is less than {b}\")\n",
        "elif a>b:\n",
        "    print(f\"{b} is greater\")\n",
        "else:\n",
        "    print(f\"{a} is equal to {b}\")\n"
      ],
      "metadata": {
        "colab": {
          "base_uri": "https://localhost:8080/"
        },
        "id": "z9DbnSwZ8D-F",
        "outputId": "73225b18-ba94-4ae8-fb62-c50cbdcfabe5"
      },
      "execution_count": null,
      "outputs": [
        {
          "output_type": "stream",
          "name": "stdout",
          "text": [
            "Enter a number2 3\n",
            "2 is less than 3\n"
          ]
        }
      ]
    },
    {
      "cell_type": "code",
      "source": [
        "number=int(input(\"Enter a number\"))\n",
        "i=1\n",
        "while i<=number:\n",
        "  print(i)\n",
        "  i+=1"
      ],
      "metadata": {
        "colab": {
          "base_uri": "https://localhost:8080/"
        },
        "id": "2LVVOv3mAIbj",
        "outputId": "41303065-865b-49d0-fd2d-89a547859652"
      },
      "execution_count": null,
      "outputs": [
        {
          "output_type": "stream",
          "name": "stdout",
          "text": [
            "Enter a number9\n",
            "1\n",
            "2\n",
            "3\n",
            "4\n",
            "5\n",
            "6\n",
            "7\n",
            "8\n",
            "9\n"
          ]
        }
      ]
    },
    {
      "cell_type": "code",
      "source": [
        "number=int(input(\"Enter a number\"))\n",
        "i=number\n",
        "while i>=1:\n",
        "  print(i)\n",
        "  i-=1"
      ],
      "metadata": {
        "colab": {
          "base_uri": "https://localhost:8080/"
        },
        "id": "NyytwhMVRWZP",
        "outputId": "86227b6c-898c-42b0-9bc8-f446ffbffd99"
      },
      "execution_count": null,
      "outputs": [
        {
          "output_type": "stream",
          "name": "stdout",
          "text": [
            "Enter a number4\n",
            "4\n",
            "3\n",
            "2\n",
            "1\n"
          ]
        }
      ]
    },
    {
      "cell_type": "code",
      "source": [
        "n=int(input(\"enter a number\"))\n",
        "step=float(input(\"step of: \"))\n",
        "i=1\n",
        "while i<=n:\n",
        "  print(i)\n",
        "  i+=step"
      ],
      "metadata": {
        "colab": {
          "base_uri": "https://localhost:8080/"
        },
        "id": "tR64dtc2SG2H",
        "outputId": "1a495fe7-c8ed-4547-f42e-9a4edd9aafa4"
      },
      "execution_count": null,
      "outputs": [
        {
          "output_type": "stream",
          "name": "stdout",
          "text": [
            "enter a number4\n",
            "step of: 0.25\n",
            "1\n",
            "1.25\n",
            "1.5\n",
            "1.75\n",
            "2.0\n",
            "2.25\n",
            "2.5\n",
            "2.75\n",
            "3.0\n",
            "3.25\n",
            "3.5\n",
            "3.75\n",
            "4.0\n"
          ]
        }
      ]
    },
    {
      "cell_type": "code",
      "source": [
        "#infinite while\n",
        "while True:\n",
        "    number=int(input(\"enter the number: \"))\n",
        "    if number<0:\n",
        "      break"
      ],
      "metadata": {
        "colab": {
          "base_uri": "https://localhost:8080/"
        },
        "id": "pLG7RcT2WYBx",
        "outputId": "30669cbd-3cc4-4ba5-e21d-e61d1130f940"
      },
      "execution_count": null,
      "outputs": [
        {
          "name": "stdout",
          "output_type": "stream",
          "text": [
            "enter the number: 11\n",
            "enter the number: 22\n",
            "enter the number: 33\n",
            "enter the number: 33\n",
            "enter the number: 44\n",
            "enter the number: 5555\n",
            "enter the number: 555\n",
            "enter the number: -9\n"
          ]
        }
      ]
    },
    {
      "cell_type": "code",
      "source": [
        "#add all no till 1st number is -ve add eeach even no and sub each odd\n",
        "result=0\n",
        "while True:\n",
        "    number=int(input(\"enter the number: \"))\n",
        "    if number<0:\n",
        "      print(\"exit\")\n",
        "      break\n",
        "    else:\n",
        "       if number%2==0:\n",
        "                result+=number\n",
        "       else:\n",
        "            result-=number\n",
        "print(f\"sum is {result}\")\n",
        "\n",
        "\n"
      ],
      "metadata": {
        "colab": {
          "base_uri": "https://localhost:8080/"
        },
        "id": "lYarua3PWh4m",
        "outputId": "9adbf8b2-55f9-41d8-a5fb-720d2de19216"
      },
      "execution_count": null,
      "outputs": [
        {
          "output_type": "stream",
          "name": "stdout",
          "text": [
            "enter the number: 3\n",
            "enter the number: 2\n",
            "enter the number: 2\n",
            "enter the number: 5\n",
            "enter the number: 6\n",
            "enter the number: 9\n",
            "enter the number: -3\n",
            "exit\n",
            "sum is -7\n"
          ]
        }
      ]
    },
    {
      "cell_type": "code",
      "source": [
        "sum=0\n",
        "count=0\n",
        "\n",
        "while True:\n",
        "  n=input(\"enter number \")\n",
        "  if n==\"\":\n",
        "    break\n",
        "  else:\n",
        "    count+=1\n",
        "    sum+=int(n)\n",
        "\n",
        "\n",
        "print(f\"The sum is {sum} with elements {count}\")\n"
      ],
      "metadata": {
        "colab": {
          "base_uri": "https://localhost:8080/"
        },
        "id": "4k9aSjUYXq-j",
        "outputId": "d7c9e839-8918-4ef6-9241-ceca99b51c62"
      },
      "execution_count": null,
      "outputs": [
        {
          "output_type": "stream",
          "name": "stdout",
          "text": [
            "enter number 1\n",
            "enter number 2\n",
            "enter number 3\n",
            "enter number 4\n",
            "enter number 5\n",
            "enter number \n",
            "The sum is 15 with elements 5\n"
          ]
        }
      ]
    },
    {
      "cell_type": "code",
      "source": [
        "min=9999\n",
        "max=-9999\n",
        "sum=0\n",
        "count=0\n",
        "\n",
        "\n",
        "while True:\n",
        "  n=input(\"enter number \")\n",
        "  if n==\"\":\n",
        "    break\n",
        "  else:\n",
        "    n=int(n)\n",
        "    count+=1\n",
        "    if n<min:\n",
        "      min=n\n",
        "    if n>max:\n",
        "      max=n\n",
        "    sum+=int(n)\n",
        "\n",
        "\n",
        "print(f\"The sum is {sum} with elements {count} and average is {sum/count}\")\n",
        "print(f\"The min is {min} max is {max}\")"
      ],
      "metadata": {
        "colab": {
          "base_uri": "https://localhost:8080/"
        },
        "id": "XtVphq4ZaE4C",
        "outputId": "b8667e42-d56a-4d88-fff3-192a0ba4d255"
      },
      "execution_count": null,
      "outputs": [
        {
          "output_type": "stream",
          "name": "stdout",
          "text": [
            "enter number 22\n",
            "enter number 33\n",
            "enter number \n",
            "The sum is 55 with elements 2 and average is 27.5\n",
            "The min is 22 max is 33\n"
          ]
        }
      ]
    },
    {
      "cell_type": "code",
      "source": [
        "sum=0\n",
        "count=0\n",
        "c3=c5=c7=c3_5=c52_7=0\n",
        "\n",
        "\n",
        "\n",
        "while True:\n",
        "  n=input(\"enter number \")\n",
        "  if n==\"\":\n",
        "    break\n",
        "  else:\n",
        "    n=int(n)\n",
        "    count+=1\n",
        "    if n%3==0:\n",
        "      c3+=1\n",
        "    if n%5==0:\n",
        "      c5+=1\n",
        "    if n%7==0:\n",
        "      c7+=1\n",
        "    if n%3==0 and n%5==0:\n",
        "      c3_5+=1\n",
        "    if n%5==0 and n%7==0:\n",
        "      c5_7+=1\n",
        "    sum+=int(n)\n",
        "print(f\"thw numbers divisible by 3,5,7 are {c3},{c5},{c7}\")\n",
        "print(f\"thw numbers divisible by 3 and 5 are {c3_5}\")\n",
        "print(f\"thw numbers divisible by 5 and 7 are {c5_7}\")\n",
        "print(f\" {sum}\")\n",
        "\n",
        "\n"
      ],
      "metadata": {
        "colab": {
          "base_uri": "https://localhost:8080/"
        },
        "id": "fRCFr5s-cTLw",
        "outputId": "82eb7c6d-3ea1-429d-b339-39fa172f9334"
      },
      "execution_count": null,
      "outputs": [
        {
          "output_type": "stream",
          "name": "stdout",
          "text": [
            "enter number 3\n",
            "enter number 5\n",
            "enter number 6\n",
            "enter number 7\n",
            "enter number 15\n",
            "enter number 23\n",
            "enter number 35\n",
            "enter number \n",
            "thw numbers divisible by 3,5,7 are 3,3,2\n",
            "thw numbers divisible by 3 and 5 are 1\n",
            "thw numbers divisible by 5 and 7 are 2\n",
            " 94\n"
          ]
        }
      ]
    },
    {
      "cell_type": "code",
      "source": [
        "product=input(\"enter yur product:\")\n",
        "price=float(input(\"enter price\"))\n",
        "while True:\n",
        "  guess=float(input(\"enter guess\"))\n",
        "  if guess<price:\n",
        "    print(\"too low\")\n",
        "  elif guess>price:\n",
        "    print(\"too high\")\n",
        "  else:\n",
        "    print(\"perfect\")\n",
        "    break\n"
      ],
      "metadata": {
        "colab": {
          "base_uri": "https://localhost:8080/"
        },
        "id": "i-qNywGQgFnC",
        "outputId": "ac929ebc-6751-42a3-d502-3585ddd5ba28"
      },
      "execution_count": null,
      "outputs": [
        {
          "output_type": "stream",
          "name": "stdout",
          "text": [
            "enter yur product:watch\n",
            "enter price6.6\n",
            "enter guess5.5\n",
            "too low\n",
            "enter guess7.7\n",
            "too high\n",
            "enter guess6.6\n",
            "perfect\n"
          ]
        }
      ]
    },
    {
      "cell_type": "code",
      "source": [],
      "metadata": {
        "id": "bOdLT2LGj_Qn"
      },
      "execution_count": null,
      "outputs": []
    }
  ]
}